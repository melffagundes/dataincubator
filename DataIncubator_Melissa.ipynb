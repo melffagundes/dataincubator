{
 "cells": [
  {
   "cell_type": "code",
   "execution_count": 8,
   "metadata": {
    "collapsed": false
   },
   "outputs": [
   ],
   "source": [
    "import pandas as pd\n",
    "import numpy as np\n",
    "from scipy import stats \n",
    "from sklearn.linear_model import LinearRegression\n",
    "from geopy.distance import great_circle\n",
    "import math\n",
    "\n",
    "\n",
    "\n",
    "pd.set_option('display.float_format', '{:,.2f}'.format)\n",
    "df = pd.read_csv('Arrest_Data_from_2010_to_Present.csv',encoding='Latin5')\n",
    "\n",
    "df.dtypes\n",
    "df.head()\n",
    "\n",
    "df['Arrest Date2'] = pd.to_datetime(df['Arrest Date'])\n",
    "\n",
    "df['year'] = df['Arrest Date2'].dt.year\n",
    "df['year'] = df['year'].apply(str)\n",
    "year_2018 = df[df['year'].str.startswith('2018')]\n",
    "\n",
    "'''Question1: How many bookings of arrestees were made in 2018?'''\n",
    "\n",
    "year_2018['Total'] = 0\n",
    "year_2018.groupby('year').count()[['Total']]\n",
    "\n",
    "\n",
    "'''Question2: How many bookings of arrestees were made in the area with the most arrests in 2018?'''\n",
    "year_2018.groupby('Area Name').count()[['Total']].sort_values(by='Total',ascending=False).head\n",
    "\n",
    "\n",
    "'''Question3:What is the 95% quantile of the age of the arrestee in 2018? Only consider the following charge groups for your analysis:\n",
    "\n",
    "Vehicle Theft\n",
    "Robbery\n",
    "Burglary\n",
    "Receive Stolen Property'''\n",
    "\n",
    "qt_2018 = year_2018.loc[(year_2018['Charge Group Description'] == 'Vehicle Theft') |\n",
    "                (year_2018['Charge Group Description'] == 'Robbery') | \n",
    "                (year_2018['Charge Group Description'] == 'Burglary')|\n",
    "                (year_2018['Charge Group Description'] == 'Receive Stolen Property') ]\n",
    "\n",
    "qt_2018 = qt_2018.loc[:, ('Charge Group Description', 'Age')]\n",
    "np.around(qt_2018.quantile(0.95), decimals=10).head\n",
    "\n",
    "\n",
    "\n",
    "'''Question 4 There are differences between the average age of an arrestee for the various charge groups. \n",
    "Are these differences statistically significant? For this question, \n",
    "calculate the Z-score of the average age for each charge group.\n",
    "Report the largest absolute value among the calculated Z-scores.\n",
    "\n",
    "Only consider data for 2018\n",
    "Do not consider \"Pre-Delinquency\" and \"Non-Criminal Detention\" as these charge groups are reserved for minors\n",
    "Exclude any arrests where the charge group description is not known'''\n",
    "\n",
    "year_2018 = df[df['year']==('2018')]\n",
    "z_2018 = year_2018.loc[(year_2018['Charge Group Description'] != 'Non-Criminal Detention') &\n",
    "                    (year_2018['Charge Group Description'] != 'Pre-Delinquency') & ~year_2018['Charge Group Description'].isnull()]\n",
    "\n",
    "\n",
    "z_2018_2 = z_2018.loc[:, ('Charge Group Description','Age','zscore')]\n",
    "zscore_age =  np.around(stats.zscore(z_2018_2['Age']), decimals=10)\n",
    "z_2018_2['zscore_age']= zscore_age\n",
    "\n",
    "z_2018_2.groupby(['Charge Group Description'])['zscore_age'].max().sort_values(ascending=False)\n",
    " \n",
    "\n",
    "'''Question 5: Felony arrest incidents have been dropping over the years. Using a trend line (linear estimation) \n",
    "for the data from 2010 and 2018 (inclusive), what is the projected number of felony arrests in 2019? \n",
    "Round to the nearest integer. Note, the data set includes arrests for misdemeanor, felonies, etc.'''\n",
    "df['Arrest Date2'] = pd.to_datetime(df['Arrest Date'])\n",
    "df.set_index('Arrest Date2', inplace = True)\n",
    "ax = df.resample('A')['Area Name'].count().plot()\n",
    "ax.set_frame_on(False)\n",
    "ax.set_title('Projected number of felony arrests in 2019')\n",
    "\n",
    "\n",
    "ln = df\n",
    "ln.head()\n",
    "ln['Total'] = 0\n",
    "ln['Arrest Date2'] = pd.to_datetime(ln['Arrest Date'])\n",
    "\n",
    "ln['Year'] = ln['Arrest Date2'].dt.year\n",
    "ln['Year'] = ln['year'].apply(str)\n",
    "feature = ln.groupby('Year').count()[['Total']].sort_values(by='Total',ascending=False).reset_index()\n",
    "x = feature['Year'].to_numpy().reshape((-1, 1))\n",
    "y = feature['Total'].to_numpy()\n",
    "model = LinearRegression().fit(x, y)\n",
    "r_sq = model.score(x, y)\n",
    "print('coefficient of determination:', r_sq)\n",
    "print('intercept:', model.intercept_)\n",
    "y_pred = model.predict(x)\n",
    "print('predicted response:', y_pred, sep='\\n')\n",
    "\n",
    "\n",
    "'''How many arrest incidents occurred within 2 km from the Bradbury Building in 2018? Use (34.050536, -118.247861) \n",
    "for the coordinates of the Bradbury Building . For simplicity, please use the spherical Earth projected \n",
    "to a plane equation for calculating distances. Use the radius of the Earth as 6371 km. Note, \n",
    "some arrest records are missing location data and the location is listed as (0, 0). These records should not factor in your calculation.'''\n",
    "\n",
    "\n",
    "year_2018 = year_2018.loc[~year_2018['Location'].isnull()]\n",
    "bradbury = \"34.050536, -118.247861\"\n",
    "arrests = pd.DataFrame({'Area Name': [], 'Location': [], 'Total': []})\n",
    "print(eval(bradbury))\n",
    "\n",
    "for index, row in year_2018.iterrows():\n",
    "    if np.around(great_circle(eval(bradbury), eval(row['Location'])).kilometers, decimals=1) <= 2 :\n",
    "           arrests = arrests.append({'Area Name': row['Area Name'], 'Location': row['Location'], 'Total': row['Total']}, ignore_index=True)\n",
    "\n",
    "arrests.groupby('Area Name').count()[['Total']].sum().head\n",
    "\n"
   ]
  },
  {
   "cell_type": "code",
   "execution_count": 15,
   "metadata": {
    "collapsed": false
   },
   "outputs": [
    {
     "name": "stdout",
     "output_type": "stream",
     "text": [
      "[0. 0. 1. 2.]\n"
     ]
    }
   ],
   "source": [
    "\n"
   ]
  },
  {
   "cell_type": "code",
   "execution_count": 0,
   "metadata": {
    "collapsed": false
   },
   "outputs": [
   ],
   "source": [
   ]
  }
 ],
 "metadata": {
  "kernelspec": {
   "display_name": "Python 3 (system-wide)",
   "language": "python",
   "metadata": {
    "cocalc": {
     "description": "Python 3 programming language",
     "priority": 100,
     "url": "https://www.python.org/"
    }
   },
   "name": "python3"
  },
  "language_info": {
   "codemirror_mode": {
    "name": "ipython",
    "version": 3
   },
   "file_extension": ".py",
   "mimetype": "text/x-python",
   "name": "python",
   "nbconvert_exporter": "python",
   "pygments_lexer": "ipython3",
   "version": "3.6.8"
  }
 },
 "nbformat": 4,
 "nbformat_minor": 0
}